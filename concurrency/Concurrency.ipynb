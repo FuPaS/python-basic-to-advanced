{
 "cells": [
  {
   "cell_type": "markdown",
   "id": "4510f4a3",
   "metadata": {},
   "source": [
    "# Nebenläufigkeit (*englisch:* Concurrency)\n",
    "\n",
    "## Nebenläufigkeit\n",
    "\n",
    "> Die Nebenläufigkeit, mitunter auch Parallelität (englisch concurrency) genannt, ist in der Informatik die Eigenschaft eines Systems, mehrere Aufgaben, Berechnungen, Anweisungen oder Befehle gleichzeitig ausführen zu können. Es kann sich dabei um völlig unabhängige Anweisungen handeln, bis hin zur gemeinsamen Bearbeitung einer Aufgabe. Sie können dabei auch miteinander interagieren (z. B. um Zwischenergebnisse auszutauschen).\n",
    "> -- <cite>[Wikipedia][1]</cite>\n",
    "\n",
    "[1]: https://de.wikipedia.org/wiki/Nebenl%C3%A4ufigkeit"
   ]
  },
  {
   "cell_type": "markdown",
   "id": "f6b82715",
   "metadata": {},
   "source": [
    "Es ist zu unterscheiden zwischen *scheinbarer* und *echter* Parallelität. Im ersten Fall werden zum Beispiel beim *Multitasking* einzelne Aufgaben von einem Prozessor seriell abgearbeitet, erscheinen aber durch Task-Wechsel parallel. Echte Parallelität hingegen findet auf Rechnern mit mehrern Prozessoren beziehungsweise Mehr-Kern-CPUs und in verteilten Rechner-Netzwerken statt."
   ]
  },
  {
   "cell_type": "markdown",
   "id": "7f5429e5",
   "metadata": {},
   "source": [
    "## Parallelisierbarkeit\n",
    "\n",
    "Programme können durch die Nutzung von mehreren Ausführungsfäden (Threads) erheblich beschleunigt werden. Jedoch ist hierbei zu beachten, dass es einige Fallstricke gibt, insbesondere dann, wenn einzelne Programmteile voneinander abhängen und auf Datenaustausch angewiesen sind. In diesem Fall ist es notwendig geeignete Synchronisationsverfahren anzuwenden."
   ]
  },
  {
   "cell_type": "markdown",
   "id": "5399134b",
   "metadata": {},
   "source": [
    "## Motivation\n",
    "\n",
    "Welche Probleme kann ich mit Nebenläufigkeit lösen?\n",
    "\n",
    "Ganz offensichtlich lassen Programmabläufe, die sich gut parallelisieren lassen, wie z.B. mathematische Operationen bei der Bildbearbeitung erheblich beschleunigen. Darauf ausgerichtet gibt es mittlerweile spezielle Hardware (GPUs), die sich z.B. mit *OpenCL* oder *CUDA* nutzen lässt.\n",
    "\n",
    "Ein weiteres Beispiel ist die asynchrone Ausführung von Netzwerkoperationen. Hierbei werden im Hintergrund Daten geladen, während dem Benutzer bereits eine grafische Oberfläche angezeigt wird. Dabei werden die Daten im Nachhinein eingefügt und verbessern dadurch das Benutzererlebnis, da nicht auf die Ankunft der Daten gewartet werden muss. Diese Technik ist auch als *latency hiding* bekannt."
   ]
  },
  {
   "cell_type": "markdown",
   "id": "431969ce",
   "metadata": {},
   "source": [
    "## Arten von Nebenläufigkeit\n",
    "\n",
    "### Prozesse und Threads\n",
    "\n",
    "#### Prozess\n",
    "\n",
    "> Ein Prozess (auch Task oder Programminstanz genannt) ist ein Computerprogramm zur Laufzeit. Genauer ist ein Prozess die konkrete Instanziierung eines Programms zu dessen Ausführung innerhalb eines Rechnersystems, ergänzt um weitere (Verwaltungs-)Informationen und Ressourcenzuteilungen des Betriebssystems für diese Ausführung.\n",
    "> -- <cite>[Wikipedia][2]</cite>\n",
    "\n",
    "#### Thread\n",
    "\n",
    "> Ein (Kernel-)Thread ist ein sequentieller Abarbeitungslauf innerhalb eines Prozesses und teilt sich mit den anderen vorhandenen Threads des zugehörigen Prozesses eine Reihe von Betriebsmitteln.\n",
    "> -- <cite>[Wikipedia][4]</cite>\n",
    "\n",
    "![Multiprocessing and Multithreading](multiprocessing_threading.png \"Multiprocessing and Multithreading\")\n",
    "\n",
    "### Multiprocessing\n",
    "\n",
    "Multiprocessing ermöglicht die nebenläufige Ausführung von mehreren *Prozessen*, auch bekannt als Multitasking:\n",
    "\n",
    "> Der Begriff Multitasking bzw. Mehrprozessbetrieb bezeichnet die Fähigkeit eines Betriebssystems, mehrere Aufgaben (Tasks) (quasi-)nebenläufig auszuführen. [..] Die verschiedenen Prozesse werden in so kurzen Abständen immer abwechselnd aktiviert, dass der Eindruck der Gleichzeitigkeit entsteht. [..] Besitzt ein Computer mehrere CPU-Kerne, so dass er mehrere Aufgaben echt-gleichzeitig ausführen kann, so spricht man von Multiprocessing.\n",
    "> -- <cite>[Wikipedia][1]</cite>\n",
    "\n",
    "### Multithreading\n",
    "\n",
    "Multithreading bezeichnet die (quasi-)gleichzeitige Abarbeitung mehrerer Threads innerhalb *eines einzelnen Prozesses*.\n",
    "\n",
    "> Im Gegensatz zum Multitasking, bei dem mehrere unabhängige Programme voneinander abgeschottet quasi-gleichzeitig ausgeführt werden, sind die Threads eines Anwendungsprogramms nicht voneinander abgeschottet und können somit durch sogenannte Race Conditions Fehler verursachen, die durch Synchronisation vermieden werden müssen.\n",
    "> -- <cite>[Wikipedia][3]</cite>\n",
    "\n",
    "[1]: https://de.wikipedia.org/wiki/Multitasking\n",
    "[2]: https://de.wikipedia.org/wiki/Prozess_(Informatik)\n",
    "[3]: https://de.wikipedia.org/wiki/Multithreading\n",
    "[4]: https://de.wikipedia.org/wiki/Thread_(Informatik)"
   ]
  },
  {
   "cell_type": "markdown",
   "id": "8c76f130",
   "metadata": {},
   "source": [
    "## Nebenläufigkeit in Python\n",
    "\n",
    "### Das [Global Interpreter Lock (GIL)](https://docs.python.org/3/glossary.html#term-global-interpreter-lock)\n",
    "\n",
    "In Python (genauer [CPython](https://docs.python.org/3/glossary.html#term-CPython)) gibt es einen Mechanismus namens *Global Interpreter Lock*, also in etwa *globale Interpreter Sperre*.\n",
    "\n",
    "Dieser Mechanismus wurde eingeführt, um die Implementierung des Bytecode Interpreters zu vereinfachen, indem nur ein (Kernel-) Thread jeweils Bytecode ausführen darf, während der Rest warten muss. Dies garantiert, dass das interne Datenmodell (z.B. `dict`s) sicher sind vor nebenläufigem Zugriff.\n",
    "\n",
    "Es gab in der Vergangenheit Versuche Interpreter mit granularerem Locking-Strategien, also nur einer Sperre der akut betroffenen Datenstrukturen. Diese waren jedoch nicht erfolgreich, da die Performance im weit verbreiteten Ein-Prozessor Use-Case erheblich litt. Mittlerweile geht man davon aus, dass es eine Implementierung, welche dieses Dilemma löst zu aufwendig und damit zu schwer zu warten wäre."
   ]
  },
  {
   "cell_type": "markdown",
   "id": "da290ecb",
   "metadata": {},
   "source": [
    "## Python APIs\n",
    "\n",
    "### Multiprocessing\n",
    "\n",
    "Das Multiprocessing Paket erlaubt es *Unterprozesse* zu erzeugen. (Englisch: *fork or spawn a subprocess*). Da es hierbei auf der Prozessebene fungiert wird dadurch effektiv das GIL umgangen. Das Paket ermöglich lokale und verteilte (auf anderen Rechnern, *remote*) Nebenläufigkeit und funktioniert sowohl auf Unix als auch auf Windows."
   ]
  },
  {
   "cell_type": "markdown",
   "id": "0fdc5180",
   "metadata": {},
   "source": [
    "### Nutzung von Multiprocessing\n",
    "\n",
    "Zuerst wird die Klasse `Process` importiert:"
   ]
  },
  {
   "cell_type": "code",
   "execution_count": 5,
   "id": "7b8c1037",
   "metadata": {},
   "outputs": [],
   "source": [
    "from multiprocessing import Process"
   ]
  },
  {
   "cell_type": "markdown",
   "id": "446c376b",
   "metadata": {},
   "source": [
    "Danach können wir einen Prozess generieren und starten:"
   ]
  },
  {
   "cell_type": "code",
   "execution_count": 4,
   "id": "3bdc9bc8",
   "metadata": {},
   "outputs": [
    {
     "name": "stdout",
     "output_type": "stream",
     "text": [
      "hello alice\n"
     ]
    }
   ],
   "source": [
    "def f(name):\n",
    "    print('hello', name)\n",
    "    \n",
    "p = Process(target=f, args=('alice',))\n",
    "p.start()\n",
    "p.join()"
   ]
  },
  {
   "cell_type": "markdown",
   "id": "5b85eadd",
   "metadata": {},
   "source": [
    "Ein erweitertes Beispiel, bei dem zusätzlich die beteiligten Prozess-IDs ausgegeben werden:"
   ]
  },
  {
   "cell_type": "code",
   "execution_count": 7,
   "id": "10b155f1",
   "metadata": {},
   "outputs": [
    {
     "name": "stdout",
     "output_type": "stream",
     "text": [
      "main line\n",
      "module name: __main__\n",
      "parent process: 3269803\n",
      "process id: 3270043\n",
      "function f\n",
      "module name: __main__\n",
      "parent process: 3270043\n",
      "process id: 3377676\n",
      "hello bob\n"
     ]
    }
   ],
   "source": [
    "from multiprocessing import Process\n",
    "import os\n",
    "\n",
    "def info(title):\n",
    "    print(title)\n",
    "    print('module name:', __name__)\n",
    "    print('parent process:', os.getppid())\n",
    "    print('process id:', os.getpid())\n",
    "\n",
    "def f(name):\n",
    "    info('function f')\n",
    "    print('hello', name)\n",
    "\n",
    "if __name__ == '__main__':\n",
    "    info('main line')\n",
    "    p = Process(target=f, args=('bob',))\n",
    "    p.start()\n",
    "    p.join()"
   ]
  },
  {
   "cell_type": "markdown",
   "id": "e0230d15",
   "metadata": {},
   "source": [
    "### Datenaustausch\n",
    "#### Queues\n",
    "\n",
    "Mit Hilfe von `Queues` können Daten zwischen Prozessen geteilt werden:"
   ]
  },
  {
   "cell_type": "code",
   "execution_count": 22,
   "id": "5e09c0d3",
   "metadata": {},
   "outputs": [
    {
     "name": "stdout",
     "output_type": "stream",
     "text": [
      "f1() done\n",
      "f2() done\n",
      "f3() done\n",
      "[42, None, 'hello']\n"
     ]
    }
   ],
   "source": [
    "from multiprocessing import Process, Queue\n",
    "from time import sleep\n",
    "\n",
    "def f1(q):\n",
    "    sleep(0.1)\n",
    "    q.put(q.get() + [42])\n",
    "    print('f1() done')\n",
    "    \n",
    "def f2(q):\n",
    "    sleep(0.2)\n",
    "    q.put(q.get() + [None])\n",
    "    print('f2() done')\n",
    "    \n",
    "def f3(q):\n",
    "    sleep(0.3)\n",
    "    q.put(q.get() + ['hello'])\n",
    "    print('f3() done')\n",
    "    \n",
    "if __name__ == '__main__':\n",
    "    q = Queue(3)\n",
    "    q.put([])\n",
    "    p1 = Process(target=f1, args=(q,))\n",
    "    p2 = Process(target=f2, args=(q,))\n",
    "    p3 = Process(target=f3, args=(q,))\n",
    "    p1.start()\n",
    "    p2.start()\n",
    "    p3.start()\n",
    "    p1.join()\n",
    "    p2.join()\n",
    "    p3.join()\n",
    "    print(q.get())"
   ]
  },
  {
   "cell_type": "markdown",
   "id": "f27f4323",
   "metadata": {},
   "source": [
    "#### Pipes\n",
    "\n",
    "Ein etwas aufwändigerer, aber dafür mächtigerer Mechanismus sind `Pipe`s. Damit können bidirektionale Verbindungen zwischen zwei Prozessen aufgebaut werden:"
   ]
  },
  {
   "cell_type": "code",
   "execution_count": 23,
   "id": "857ad094",
   "metadata": {},
   "outputs": [
    {
     "name": "stdout",
     "output_type": "stream",
     "text": [
      "[42, None, 'hello']\n"
     ]
    }
   ],
   "source": [
    "from multiprocessing import Process, Pipe\n",
    "\n",
    "def f(conn):\n",
    "    conn.send([42, None, 'hello'])\n",
    "    conn.close()\n",
    "\n",
    "if __name__ == '__main__':\n",
    "    parent_conn, child_conn = Pipe()\n",
    "    p = Process(target=f, args=(child_conn,))\n",
    "    p.start()\n",
    "    print(parent_conn.recv())   # prints \"[42, None, 'hello']\"\n",
    "    p.join()"
   ]
  },
  {
   "cell_type": "markdown",
   "id": "0e0825a3",
   "metadata": {},
   "source": [
    "Der Aufruf von `Pipe()` liefert hierbei die beiden Enden der Verbindung zurück, welche man mit den Methoden `send()` und `recv()` nutzen kann. Versucht man ein Ende der Verbindung gleichzeitig mit verschiedenen Prozessen oder Threads zu nutzen kann es zu Datenkorruption kommen."
   ]
  },
  {
   "cell_type": "markdown",
   "id": "2ecf5e1e",
   "metadata": {},
   "source": [
    "#### Synchronisation\n",
    "\n",
    "Prozesse können vergleichbar zu Threads mit Hilfe eines Locks synchronisiert werden, zum Beispiel um sicherzustellen, dass nur ein Prozess auf der Standardausgabe schreibt:"
   ]
  },
  {
   "cell_type": "code",
   "execution_count": 24,
   "id": "585a041b",
   "metadata": {},
   "outputs": [
    {
     "name": "stdout",
     "output_type": "stream",
     "text": [
      "hello world 0\n",
      "hello world 1\n",
      "hello world 2\n",
      "hello world 3\n",
      "hello world 4\n",
      "hello world 5\n",
      "hello world 6\n",
      "hello world 7\n",
      "hello world 8\n",
      "hello world 9\n"
     ]
    }
   ],
   "source": [
    "from multiprocessing import Process, Lock\n",
    "\n",
    "def f(l, i):\n",
    "    l.acquire()\n",
    "    try:\n",
    "        print('hello world', i)\n",
    "    finally:\n",
    "        l.release()\n",
    "\n",
    "if __name__ == '__main__':\n",
    "    lock = Lock()\n",
    "\n",
    "    for num in range(10):\n",
    "        Process(target=f, args=(lock, num)).start()"
   ]
  },
  {
   "cell_type": "markdown",
   "id": "699c2e01",
   "metadata": {},
   "source": [
    "Ohne Locks wird die Ausgabe wild durcheinander gewürfelt:"
   ]
  },
  {
   "cell_type": "code",
   "execution_count": 27,
   "id": "e0846f45",
   "metadata": {},
   "outputs": [
    {
     "name": "stdout",
     "output_type": "stream",
     "text": [
      "hello world hello worldhello world0hello world hello worldhello world  1\n",
      "24hello world \n",
      "  \n",
      "5\n",
      "3hello world\n",
      "6hello worldhello world\n",
      "\n",
      "   879\n",
      "\n",
      "\n"
     ]
    }
   ],
   "source": [
    "from multiprocessing import Process\n",
    "\n",
    "def f(i):\n",
    "    print('hello world', i)\n",
    "\n",
    "if __name__ == '__main__':\n",
    "    for num in range(10):\n",
    "        Process(target=f, args=(num, )).start()"
   ]
  },
  {
   "cell_type": "markdown",
   "id": "c5c06259",
   "metadata": {},
   "source": [
    "### Dokumentation\n",
    "\n",
    "Mehr Information zu `multiprocessing` findet sich in der offiziellen [Dokumentation](https://docs.python.org/3/library/multiprocessing.html)."
   ]
  },
  {
   "cell_type": "markdown",
   "id": "7e10c394",
   "metadata": {},
   "source": [
    "### Threading\n",
    "\n",
    "Das `threading` Paket implementiert User-Space Threads in Python. Allerdings ist aufgrund des *GIL* immer nur ein Thread im Interpreter lauffähig. Um die volle Leistungsfähigkeit von Multi-Core Maschinen ausschöpfen zu können empfiehlt sich der Einsatz des `multiprocessing` Pakets. Für Programme, welche IO-*Bound* sind (d.h. die Performance wird durch den Zugriff auf IO-Resourcen ausgebremst) ist der Einsatz von `threading` trotzdem empfehlenswert, da hier das *GIL* nicht zum tragen kommt."
   ]
  },
  {
   "cell_type": "markdown",
   "id": "2d18d10a",
   "metadata": {},
   "source": [
    "Erstellen eines Threads mit einer Funktion:"
   ]
  },
  {
   "cell_type": "code",
   "execution_count": 29,
   "id": "0296c396",
   "metadata": {},
   "outputs": [
    {
     "name": "stderr",
     "output_type": "stream",
     "text": [
      "15:05:54: Main    : before creating thread\n",
      "15:05:54: Main    : before running thread\n",
      "15:05:54: Thread 1: starting\n",
      "15:05:54: Main    : wait for the thread to finish\n",
      "15:05:55: Thread 1: finishing\n",
      "15:05:55: Main    : all done\n"
     ]
    }
   ],
   "source": [
    "import logging\n",
    "import threading\n",
    "import time\n",
    "\n",
    "def f1(name):\n",
    "    logging.info(\"Thread %s: starting\", name)\n",
    "    time.sleep(1)\n",
    "    logging.info(\"Thread %s: finishing\", name)\n",
    "\n",
    "if __name__ == \"__main__\":\n",
    "    format = \"%(asctime)s: %(message)s\"\n",
    "    logging.basicConfig(format=format, level=logging.INFO, datefmt=\"%H:%M:%S\")\n",
    "\n",
    "    logging.info(\"Main    : before creating thread\")\n",
    "    x = threading.Thread(target=f1, args=(1,))\n",
    "    logging.info(\"Main    : before running thread\")\n",
    "    x.start()\n",
    "    logging.info(\"Main    : wait for the thread to finish\")\n",
    "    x.join()\n",
    "    logging.info(\"Main    : all done\")"
   ]
  },
  {
   "cell_type": "markdown",
   "id": "57347067",
   "metadata": {},
   "source": [
    "Erstellen eines Threads durch Ableitung der `Thread` Klasse:"
   ]
  },
  {
   "cell_type": "code",
   "execution_count": 32,
   "id": "dd04145f",
   "metadata": {},
   "outputs": [
    {
     "name": "stderr",
     "output_type": "stream",
     "text": [
      "15:14:00: Main    : before creating thread\n",
      "15:14:00: Main    : before running thread\n",
      "15:14:00: Thread 1: starting\n",
      "15:14:00: Main    : wait for the thread to finish\n",
      "15:14:02: Thread 1: finishing\n",
      "15:14:02: Main    : all done\n"
     ]
    }
   ],
   "source": [
    "import logging\n",
    "import time\n",
    "from threading import Thread\n",
    "\n",
    "class MyThread(Thread):\n",
    "    def __init__(self, name, *args, **kwargs):\n",
    "        self.__name = name\n",
    "        super().__init__(*args, **kwargs)\n",
    "        \n",
    "    def run(self):\n",
    "        logging.info(\"Thread %s: starting\", self.__name)\n",
    "        time.sleep(2)\n",
    "        logging.info(\"Thread %s: finishing\", self.__name)\n",
    "\n",
    "if __name__ == \"__main__\":\n",
    "    format = \"%(asctime)s: %(message)s\"\n",
    "    logging.basicConfig(format=format, level=logging.INFO, datefmt=\"%H:%M:%S\")\n",
    "\n",
    "    logging.info(\"Main    : before creating thread\")\n",
    "    x = MyThread(1)\n",
    "    logging.info(\"Main    : before running thread\")\n",
    "    x.start()\n",
    "    logging.info(\"Main    : wait for the thread to finish\")\n",
    "    x.join()\n",
    "    logging.info(\"Main    : all done\")"
   ]
  },
  {
   "cell_type": "markdown",
   "id": "54a914b1",
   "metadata": {},
   "source": [
    "Mit Hilfe von `is_alive()` kann überprüft werden, ob ein Thread noch läuft:"
   ]
  },
  {
   "cell_type": "code",
   "execution_count": 33,
   "id": "bdea740c",
   "metadata": {},
   "outputs": [
    {
     "data": {
      "text/plain": [
       "False"
      ]
     },
     "execution_count": 33,
     "metadata": {},
     "output_type": "execute_result"
    }
   ],
   "source": [
    "x.is_alive()"
   ]
  },
  {
   "cell_type": "markdown",
   "id": "8459422a",
   "metadata": {},
   "source": [
    "Möchte man ein Thread automatisch bei Programmende beenden lassen, dann dann man das Argument `daemonic=True` and `Thread` übergeben.\n",
    "\n",
    "Hierbei ist jedoch zu beachten, dass sogenannte *daemon threads* abrupt beendet werden, d.h. geöffnete Resourcen wie z.B. Dateien oder Datenbankverbindungen werden nicht geschlossen. Um das zu ermöglichen ist es notwendig den Thread auf eine andere Art und Weise zu stoppen. Dazu eignet sich z.B. die `Event` Klasse, mit der geprüft werden, ob der Thread beendet werden soll oder nicht:"
   ]
  },
  {
   "cell_type": "code",
   "execution_count": 35,
   "id": "21bf1589",
   "metadata": {},
   "outputs": [
    {
     "name": "stderr",
     "output_type": "stream",
     "text": [
      "15:23:07: Main    : before creating thread\n",
      "15:23:07: Main    : before running thread\n",
      "15:23:07: Thread 1: starting\n",
      "15:23:07: Thread 1: tick 0\n",
      "15:23:07: Main    : sleeping a bit\n",
      "15:23:08: Thread 1: tick 1\n",
      "15:23:09: Thread 1: tick 2\n",
      "15:23:10: Thread 1: tick 3\n",
      "15:23:11: Thread 1: tick 4\n",
      "15:23:12: Thread 1: tick 5\n",
      "15:23:12: Main    : stopping thread\n",
      "15:23:12: Main    : waiting for thread to exit\n",
      "15:23:13: Thread 1: finishing\n",
      "15:23:13: Main    : all done\n"
     ]
    }
   ],
   "source": [
    "import logging\n",
    "import time\n",
    "from threading import Thread, Event\n",
    "\n",
    "class MyThread(Thread):\n",
    "    def __init__(self, name, *args, **kwargs):\n",
    "        self.__name = name\n",
    "        self.__count = 0\n",
    "        self.__stop = Event()\n",
    "        super().__init__(*args, **kwargs)\n",
    "\n",
    "    def stop(self):\n",
    "        self.__stop.set()\n",
    "\n",
    "    def run(self):\n",
    "        logging.info(\"Thread %s: starting\", self.__name)\n",
    "        while True:\n",
    "            if self.__stop.is_set():\n",
    "                break\n",
    "            logging.info(\"Thread %s: tick %s\", self.__name, self.__count)\n",
    "            self.__count = self.__count + 1\n",
    "            time.sleep(1)\n",
    "        logging.info(\"Thread %s: finishing\", self.__name)\n",
    "\n",
    "if __name__ == \"__main__\":\n",
    "    format = \"%(asctime)s: %(message)s\"\n",
    "    logging.basicConfig(format=format, level=logging.INFO, datefmt=\"%H:%M:%S\")\n",
    "\n",
    "    logging.info(\"Main    : before creating thread\")\n",
    "    x = MyThread(1)\n",
    "    logging.info(\"Main    : before running thread\")\n",
    "    x.start()\n",
    "    logging.info(\"Main    : sleeping a bit\")\n",
    "    time.sleep(5)\n",
    "    logging.info(\"Main    : stopping thread\")\n",
    "    x.stop()\n",
    "    logging.info(\"Main    : waiting for thread to exit\")\n",
    "    x.join()\n",
    "    logging.info(\"Main    : all done\")"
   ]
  },
  {
   "cell_type": "markdown",
   "id": "f54c3fc5",
   "metadata": {},
   "source": [
    "Weitere Synchronisationsmethoden sind `Lock`, `RLock`, `Condition`, `Semaphore`, `Timer` und `Barrier`. `Lock` und `RLock` funktionieren analog zu `multiprocessing`. Die Besonderheit an `RLock` ist, dass es *reentrant* ist, d.h. mehrere Aufrufe der `acquire()` Methode führen nicht zu einem Deadlock, wie es z.B. bei `Lock` passieren könnte.\n",
    "\n",
    "Grundsätzlich unterstützen alle Synchronisationsmethoden das [context management protocol](https://docs.python.org/3/library/threading.html#with-locks):\n",
    "\n",
    "```python\n",
    "with some_lock:\n",
    "    # do something...\n",
    "```\n",
    "\n",
    "ist dabei gleichbedeutend mit:\n",
    "\n",
    "```python\n",
    "some_lock.acquire()\n",
    "try:\n",
    "    # do something...\n",
    "finally:\n",
    "    some_lock.release()\n",
    "```"
   ]
  },
  {
   "cell_type": "markdown",
   "id": "e0b32f24",
   "metadata": {},
   "source": [
    "#### Conditions\n",
    "\n",
    "Condition variables sind besonders interessant für *Producer-Consumer*-Anwendungen. D.h. Ein oder mehrere Threads erzeugen (produzieren) Daten, welche von einem oder mehreren anderen Threads gelesen (konsumiert) werden. Der produzierende Thread nutzt dafür die `notify()` und `notify_all()` Methoden, während die konsumierenden Threads mit `wait()` und `wait_for()` auf den gewünschten Zustand warten können.\n",
    "\n",
    "Dies ist ein gängiges Pattern bei der Programmierung nebenläufiger Anwendungen. Hier soll darauf jedoch nicht weiter eingegangen werden. Weiterführende Literatur findet sich z.B. auf [Wikipedia](https://de.wikipedia.org/wiki/Erzeuger-Verbraucher-Problem)."
   ]
  },
  {
   "cell_type": "markdown",
   "id": "b23f584f",
   "metadata": {},
   "source": [
    "#### Semaphores\n",
    "\n",
    "Semaphoren sind eine der ältesten Synchronisationsprimitiven, erfunden von Edsger W. Dijkstra. Sie funktionieren so ähnlich wie Locks, implementieren jedoch zusätzlich einen Zähler."
   ]
  },
  {
   "cell_type": "markdown",
   "id": "45d9ab9f",
   "metadata": {},
   "source": [
    "#### Timer\n",
    "\n",
    "Mit einem Timer ist es möglich eine verzögerte Aktion auszuführen. Der Thread kann vor dem eigentlichen Aufruf der Aktion beendet werden. Eine beispielhafte Anwendung wäre zum Beispiel ein \"long press\". Der Benutzer drückt eine Taste und hält diese gedrückt. Der Timer startet und führt z.B. nach 2 Sekunden eine Aktion aus. Löst der Benutzer vor Ablauf der 2 Sekunden die Taste wird der Timer gestoppt und die eigentliche Tastenaktion wird ausgeführt."
   ]
  },
  {
   "cell_type": "markdown",
   "id": "b2a751a7",
   "metadata": {},
   "source": [
    "#### Barrier\n",
    "\n",
    "Mit einer Barrier kann eine feste Anzahl von Threads an einem gemeinsamen Synchronisationspunkt gesammelt werden. Jeder Thread ruft am Ende seines Ablaufs die `wait()` Methode auf, welche blockierend ist, d.h. der Thread muss hier warten. Wenn alle Threads `wait()` aufgerufen haben, wird die Schranke gelöst und die Threads können weiter arbeiten. "
   ]
  },
  {
   "cell_type": "markdown",
   "id": "64f3aa4a",
   "metadata": {},
   "source": [
    "### Datenaustausch\n",
    "\n",
    "Zum Datenaustausch gibt es ein eigenes [`queue` Paket](https://docs.python.org/3/library/queue.html#module-queue). Im Gegensatz zu der Queue aus der Standardbibliothek ist diese Variante Thread-safe und erzeugt keine Race-Conditions oder Datenkorruption."
   ]
  },
  {
   "cell_type": "code",
   "execution_count": 37,
   "id": "f38eb767",
   "metadata": {
    "scrolled": true
   },
   "outputs": [
    {
     "name": "stdout",
     "output_type": "stream",
     "text": [
      "All task requests sent\n",
      "Working on 0\n",
      "Finished 0\n",
      "Working on 1\n",
      "Finished 1\n",
      "Working on 2\n",
      "Finished 2\n",
      "Working on 3\n",
      "Finished 3\n",
      "Working on 4\n",
      "Finished 4\n",
      "Working on 5\n",
      "Finished 5\n",
      "Working on 6\n",
      "Finished 6\n",
      "Working on 7\n",
      "Finished 7\n",
      "Working on 8\n",
      "Finished 8\n",
      "Working on 9\n",
      "Finished 9\n",
      "All work completed\n"
     ]
    }
   ],
   "source": [
    "import threading, queue\n",
    "\n",
    "q = queue.Queue()\n",
    "\n",
    "def worker():\n",
    "    while True:\n",
    "        item = q.get()\n",
    "        print(f'Working on {item}')\n",
    "        print(f'Finished {item}')\n",
    "        q.task_done()\n",
    "\n",
    "# turn-on the worker thread\n",
    "threading.Thread(target=worker, daemon=True).start()\n",
    "\n",
    "# send ten task requests to the worker\n",
    "for item in range(10):\n",
    "    q.put(item)\n",
    "print('All task requests sent\\n', end='')\n",
    "\n",
    "# block until all tasks are done\n",
    "q.join()\n",
    "print('All work completed')"
   ]
  },
  {
   "cell_type": "markdown",
   "id": "0b8244a5",
   "metadata": {},
   "source": [
    "### Dokumentation\n",
    "\n",
    "Mehr Information zu `threading` findet sich in der offiziellen [Dokumentation](https://docs.python.org/3/library/threading.html)."
   ]
  },
  {
   "cell_type": "markdown",
   "id": "e565e2a8",
   "metadata": {},
   "source": [
    "## Übung: Primzahlen\n",
    "\n",
    "Implementiere einen einfachen Algorithmus um bis zu einer fixen Zahl `N` alle Primzahlen zu finden. Als Beispiel bis 10 wären das 2, 3, 5 und 7. Verwendet werden kann z.B. die [Probedivision](https://de.wikipedia.org/wiki/Probedivision).\n",
    "\n",
    "Miss die Performance (Ausführgeschwindigkeit) der Implementierung mit einer Messgröße `N`, so dass das Ergebnis bei ein paar Sekunden liegt.\n",
    "\n",
    "Implementiere rein fakultativ den Algorithmus \"[Sieb des Eratosthenes](https://de.wikipedia.org/wiki/Sieb_des_Eratosthenes)\". Miss auch hier die Performance und vergleiche sie mit der naiven Implementierung.\n",
    "\n",
    "Nutze nun das Paket `multiprocessing`, um die naive Implementierung zu beschleunigen. Miss wiederum die Performance für verschiedene Werte von `N`. Was für Schlüsse kann man hieraus ziehen? Ist die parallelisierte Variante generell schneller? Warum oder warum nicht?"
   ]
  }
 ],
 "metadata": {
  "kernelspec": {
   "display_name": "Python 3 (ipykernel)",
   "language": "python",
   "name": "python3"
  },
  "language_info": {
   "codemirror_mode": {
    "name": "ipython",
    "version": 3
   },
   "file_extension": ".py",
   "mimetype": "text/x-python",
   "name": "python",
   "nbconvert_exporter": "python",
   "pygments_lexer": "ipython3",
   "version": "3.8.10"
  }
 },
 "nbformat": 4,
 "nbformat_minor": 5
}
